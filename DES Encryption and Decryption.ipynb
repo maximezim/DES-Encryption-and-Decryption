{
 "cells": [
  {
   "cell_type": "markdown",
   "metadata": {},
   "source": [
    "# Éléments nécessaires au TP 1 (chiffrement DES)\n",
    "\n",
    "F. Goichot, février 2023\n",
    "\n",
    "Ce document contient :\n",
    "* les \"constantes de DES\", c'est-à-dire les différents tableaux définissant les transformations qui interviennent dans le chiffrement d'un message\n",
    "* un test global et son résultat, pour contrôler votre propre travail\n",
    "* un test intermédiaire et son résultat, sur le premier tour de chiffrement"
   ]
  },
  {
   "cell_type": "markdown",
   "metadata": {},
   "source": [
    "## Les constantes de DES \n",
    "\n",
    "Source : https://fr.wikipedia.org/wiki/Constantes_du_DES"
   ]
  },
  {
   "cell_type": "code",
   "execution_count": 1190,
   "metadata": {},
   "outputs": [],
   "source": [
    "import numpy as np\n",
    "from random import randint"
   ]
  },
  {
   "cell_type": "markdown",
   "metadata": {},
   "source": [
    "### 1. La permutation initiale $\\sigma_0$"
   ]
  },
  {
   "cell_type": "code",
   "execution_count": 1191,
   "metadata": {},
   "outputs": [],
   "source": [
    "sigma = np.array([58,50,42,34,26,18,10,2,60,52,44,36,28,20,12,4,62,54,46,38,30,22,14,6,64,56,48,40,32,24,16,8,\n",
    "        57,49,41,33,25,17,9,1,59,51,43,35,27,19,11,3,61,53,45,37,29,21,13,5,63,55,47,39,31,23,15,7], dtype = int)"
   ]
  },
  {
   "cell_type": "markdown",
   "metadata": {},
   "source": [
    "### 2. La réciproque\n",
    "\n",
    "C'est $\\sigma_0^5$ puisque $\\sigma_0$ est d'ordre 6"
   ]
  },
  {
   "cell_type": "code",
   "execution_count": 1192,
   "metadata": {},
   "outputs": [],
   "source": [
    "sigma_moins_un = [40, 8, 48, 16, 56, 24, 64, 32, 39, 7, 47, 15, 55, 23, 63, 31, 38, 6, 46, 14,\n",
    "                  54, 22, 62, 30, 37, 5, 45, 13, 53, 21, 61, 29, 36, 4, 44, 12, 52, 20, 60, 28,\n",
    "                  35, 3, 43, 11, 51, 19, 59, 27, 34, 2, 42, 10, 50, 18, 58, 26, 33, 1, 41, 9, 49, 17, 57, 25]"
   ]
  },
  {
   "cell_type": "markdown",
   "metadata": {},
   "source": [
    "### 3. Pour les clés de tours"
   ]
  },
  {
   "cell_type": "code",
   "execution_count": 1193,
   "metadata": {},
   "outputs": [],
   "source": [
    "# Gauche \n",
    "PC1g = np.array([57,49,41,33,25,17,9,\n",
    "1,58,50,42,34,26,18,\n",
    "10,2,59,51,43,35,27,\n",
    "19,11,3,60,52,44,36])\n",
    "\t\n",
    "# Droite \n",
    "PC1d = np.array([63,55,47,39,31,23,15,\n",
    "7,62,54,46,38,30,22,\n",
    "14,6,61,53,45,37,29,\n",
    "21,13,5,28,20,12,4])"
   ]
  },
  {
   "cell_type": "code",
   "execution_count": 1194,
   "metadata": {},
   "outputs": [],
   "source": [
    "PC2 = np.array([14,17,11,24,1,5,\n",
    "3,28,15,6,21,10,\n",
    "23,19,12,4,26,8,\n",
    "16,7,27,20,13,2,\n",
    "41,52,31,37,47,55,\n",
    "30,40,51,45,33,48,\n",
    "44,49,39,56,34,53,\n",
    "46,42,50,36,29,32])"
   ]
  },
  {
   "cell_type": "markdown",
   "metadata": {},
   "source": [
    "### 4. Les fonctions de chiffrement $f_K$\n",
    "\n",
    "#### L'expansion  $E : \\{0,1\\}^{32} \\rightarrow \\{0,1\\}^{48}$"
   ]
  },
  {
   "cell_type": "code",
   "execution_count": 1195,
   "metadata": {},
   "outputs": [],
   "source": [
    "E = np.array([32 ,1 ,2 ,3 ,4 ,5,\n",
    "4 ,5 ,6 ,7 ,8 ,9,\n",
    "8 ,9 ,10 ,11 ,12 ,13,\n",
    "12 ,13 ,14 ,15 ,16 ,17,\n",
    "16 ,17 ,18 ,19 ,20 ,21,\n",
    "20 ,21 ,22 ,23 ,24 ,25,\n",
    "24 ,25 ,26 ,27 ,28 ,29,\n",
    "28 ,29 ,30 ,31 ,32 ,1 ])"
   ]
  },
  {
   "cell_type": "markdown",
   "metadata": {},
   "source": [
    "#### La permutation de sortie $P \\in S_{32}$"
   ]
  },
  {
   "cell_type": "code",
   "execution_count": 1196,
   "metadata": {},
   "outputs": [],
   "source": [
    "P  = np.array([16,7,20,21,\n",
    "29,12,28,17,\n",
    "1,15,23,26,\n",
    "5,18,31,10,\n",
    "2,8,24,14,\n",
    "32,27,3,9,\n",
    "19,13,30,6,\n",
    "22,11,4,25])"
   ]
  },
  {
   "cell_type": "markdown",
   "metadata": {},
   "source": [
    "#### Les S-boîtes"
   ]
  },
  {
   "cell_type": "code",
   "execution_count": 1197,
   "metadata": {},
   "outputs": [],
   "source": [
    "S1 = np.array([\n",
    "[14,4,13,1,2,15,11,8,3,10,6,12,5,9,0,7],\n",
    "[0,15,7,4,14,2,13,1,10,6,12,11,9,5,3,8],\n",
    "[4,1,14,8,13,6,2,11,15,12,9,7,3,10,5,0],\n",
    "[15,12,8,2,4,9,1,7,5,11,3,14,10,0,6,13]])\n",
    "\n",
    "S2 = np.array([\n",
    "[15,1,8,14,6,11,3,4,9,7,2,13,12,0,5,10],\n",
    "[3,13,4,7,15,2,8,14,12,0,1,10,6,9,11,5],\n",
    "[0,14,7,11,10,4,13,1,5,8,12,6,9,3,2,15],\n",
    "[13,8,10,1,3,15,4,2,11,6,7,12,0,5,14,9]])\n",
    "\n",
    "S3 = np.array([\n",
    "[10,0,9,14,6,3,15,5,1,13,12,7,11,4,2,8],\n",
    "[13,7,0,9,3,4,6,10,2,8,5,14,12,11,15,1],\n",
    "[13,6,4,9,8,15,3,0,11,1,2,12,5,10,14,7],\n",
    "[1,10,13,0,6,9,8,7,4,15,14,3,11,5,2,12]])\n",
    "\n",
    "S4 = np.array([\n",
    "[7,13,14,3,0,6,9,10,1,2,8,5,11,12,4,15],\n",
    "[13,8,11,5,6,15,0,3,4,7,2,12,1,10,14,9],\n",
    "[10,6,9,0,12,11,7,13,15,1,3,14,5,2,8,4],\n",
    "[3,15,0,6,10,1,13,8,9,4,5,11,12,7,2,14]])\n",
    "\n",
    "S5 = np.array([\n",
    "[2,12,4,1,7,10,11,6,8,5,3,15,13,0,14,9],\n",
    "[14,11,2,12,4,7,13,1,5,0,15,10,3,9,8,6],\n",
    "[4,2,1,11,10,13,7,8,15,9,12,5,6,3,0,14],\n",
    "[11,8,12,7,1,14,2,13,6,15,0,9,10,4,5,3]])\n",
    "\n",
    "S6 = np.array([\n",
    "[12,1,10,15,9,2,6,8,0,13,3,4,14,7,5,11],\n",
    "[10,15,4,2,7,12,9,5,6,1,13,14,0,11,3,8],\n",
    "[9,14,15,5,2,8,12,3,7,0,4,10,1,13,11,6],\n",
    "[4,3,2,12,9,5,15,10,11,14,1,7,6,0,8,13]])\n",
    "\n",
    "S7 = np.array([\n",
    "[4,11,2,14,15,0,8,13,3,12,9,7,5,10,6,1],\n",
    "[13,0,11,7,4,9,1,10,14,3,5,12,2,15,8,6],\n",
    "[1,4,11,13,12,3,7,14,10,15,6,8,0,5,9,2],\n",
    "[6,11,13,8,1,4,10,7,9,5,0,15,14,2,3,12]])\n",
    "\n",
    "S8 = np.array([\n",
    "[13,2,8,4,6,15,11,1,10,9,3,14,5,0,12,7],\n",
    "[1,15,13,8,10,3,7,4,12,5,6,11,0,14,9,2],\n",
    "[7,11,4,1,9,12,14,2,0,6,10,13,15,3,5,8],\n",
    "[2,1,14,7,4,10,8,13,15,12,9,0,3,5,6,11]])"
   ]
  },
  {
   "cell_type": "code",
   "execution_count": 1198,
   "metadata": {},
   "outputs": [
    {
     "data": {
      "text/plain": [
       "4"
      ]
     },
     "execution_count": 1198,
     "metadata": {},
     "output_type": "execute_result"
    }
   ],
   "source": [
    "S = np.array([S1,S2,S3,S4,S5,S6,S7,S8]) ; S[0][0,1]"
   ]
  },
  {
   "cell_type": "markdown",
   "metadata": {},
   "source": [
    "## Test de contrôle\n"
   ]
  },
  {
   "cell_type": "code",
   "execution_count": 1199,
   "metadata": {},
   "outputs": [
    {
     "data": {
      "text/plain": [
       "'A61CA055AABCF79C'"
      ]
     },
     "execution_count": 1199,
     "metadata": {},
     "output_type": "execute_result"
    }
   ],
   "source": [
    "# Message en clair \n",
    "a = np.array([1, 1, 1, 1, 0, 0, 0, 0, 0, 0, 0, 0, 0, 0, 0, 1, 1, 0, 0, 1, 1, 0,\n",
    "       0, 0, 1, 1, 1, 0, 0, 1, 1, 0, 1, 1, 1, 0, 1, 1, 0, 0, 1, 0, 0, 0,\n",
    "       0, 1, 0, 0, 1, 1, 1, 1, 1, 0, 0, 0, 0, 1, 1, 0, 1, 0, 0, 0])\n",
    "# soit en hexadécimal\n",
    "'F00198E6EC84F868'\n",
    "# Clé de session\n",
    "b = np.array([1, 1, 0, 1, 1, 1, 1, 1, 0, 0, 1, 0, 0, 1, 1, 0, 1, 0, 1, 1, 0, 1,\n",
    "       1, 0, 0, 0, 0, 0, 1, 1, 0, 1, 0, 1, 1, 1, 0, 1, 1, 0, 1, 0, 0, 1,\n",
    "       0, 0, 0, 1, 0, 1, 1, 1, 0, 0, 1, 1, 0, 1, 1, 1, 1, 1, 1, 1])\n",
    "# soit en hexadécimal\n",
    "'DF26B60D7691737F'\n",
    "# Message crypté\n",
    "c = np.array([1, 0, 1, 0, 0, 1, 1, 0, 0, 0, 0, 1, 1, 1, 0, 0, 1, 0, 1, 0, 0, 0,\n",
    "       0, 0, 0, 1, 0, 1, 0, 1, 0, 1, 1, 0, 1, 0, 1, 0, 1, 0, 1, 0, 1, 1,\n",
    "       1, 1, 0, 0, 1, 1, 1, 1, 0, 1, 1, 1, 1, 0, 0, 1, 1, 1, 0, 0])\n",
    "# soit en hexadécimal\n",
    "'A61CA055AABCF79C'"
   ]
  },
  {
   "cell_type": "markdown",
   "metadata": {},
   "source": [
    "### Contrôle intermédiaire pour les clés de tour et les fonctions de chiffrement de tour $f_K$"
   ]
  },
  {
   "attachments": {},
   "cell_type": "markdown",
   "metadata": {},
   "source": [
    "```py\n",
    "# même message en clair  et même clé que ci-dessus\n",
    "# la première clé de tour\n",
    "[0 1 1 1 0 1 0 0]\n",
    "[1 0 1 0 0 1 0 0]\n",
    "[1 1 1 1 1 0 0 1]\n",
    "[1 0 1 0 0 1 0 1]\n",
    "[1 0 1 1 1 0 1 1]\n",
    "[1 1 0 1 0 1 1 0]\n",
    "# soit en hexadécimal\n",
    "'74A4F9A5BBD6'\n",
    "# le résultat de f_K1 sur la moitié droite du message en clair (sans permutation)\n",
    "[1 0 1 0 1 1 0 0]\n",
    "[1 1 0 1 0 1 0 1]\n",
    "[1 0 1 1 0 0 1 0]\n",
    "[0 1 0 0 1 1 0 0]\n",
    "# soit en hexadécimal\n",
    "'ACD5B24C'\n",
    "```\n",
    "\n",
    "----\n",
    "\n",
    "# Debut du TP1\n",
    "\n",
    "## Creations des clés de tours"
   ]
  },
  {
   "cell_type": "code",
   "execution_count": 1200,
   "metadata": {},
   "outputs": [
    {
     "name": "stdout",
     "output_type": "stream",
     "text": [
      "[1 1 0 1 1 1 1 1]\n",
      "[0 0 1 0 0 1 1 0]\n",
      "[1 0 1 1 0 1 1 0]\n",
      "[0 0 0 0 1 1 0 1]\n",
      "[0 1 1 1 0 1 1 0]\n",
      "[1 0 0 1 0 0 0 1]\n",
      "[0 1 1 1 0 0 1 1]\n",
      "[0 1 1 1 1 1 1 1]\n",
      "DF26B60D7691737F\n",
      "\n",
      "[0 1 1 1 0 1 0 0]\n",
      "[1 0 1 0 0 1 0 0]\n",
      "[1 1 1 1 1 0 0 1]\n",
      "[1 0 1 0 0 1 0 1]\n",
      "[1 0 1 1 1 0 1 1]\n",
      "[1 1 0 1 0 1 1 0]\n",
      "74A4F9A5BBD6\n",
      "\n",
      "[1 0 0 1 1 0 0 0]\n",
      "[1 1 1 1 1 0 0 1]\n",
      "[1 1 1 1 0 1 0 0]\n",
      "[1 1 0 0 1 1 1 1]\n",
      "[0 0 1 0 0 0 1 1]\n",
      "[1 0 0 1 1 0 0 1]\n",
      "98F9F4CF2399\n",
      "\n",
      "[1 0 0 1 0 1 0 0]\n",
      "[0 1 1 0 1 1 1 1]\n",
      "[0 1 1 0 1 0 1 1]\n",
      "[1 1 1 1 0 0 1 1]\n",
      "[0 1 1 1 0 0 1 1]\n",
      "[0 1 0 0 1 1 0 1]\n",
      "946F6BF3734D\n",
      "\n",
      "[1 1 1 0 0 0 1 1]\n",
      "[0 1 1 1 0 1 1 1]\n",
      "[0 0 1 0 0 1 0 1]\n",
      "[0 1 1 1 0 0 1 0]\n",
      "[1 0 0 1 0 0 1 1]\n",
      "[1 0 1 0 1 1 1 0]\n",
      "E377257293AE\n",
      "\n",
      "[1 1 0 0 1 0 0 1]\n",
      "[1 0 0 1 1 1 1 1]\n",
      "[1 1 0 0 0 1 0 1]\n",
      "[1 1 0 1 0 1 0 0]\n",
      "[0 0 1 1 1 1 0 1]\n",
      "[1 0 1 0 1 1 1 1]\n",
      "C99FC5D43DAF\n",
      "\n",
      "[0 1 0 1 0 0 0 1]\n",
      "[1 1 1 1 0 0 1 0]\n",
      "[1 1 1 1 1 0 1 1]\n",
      "[0 1 1 0 1 1 1 0]\n",
      "[0 0 1 1 1 0 1 0]\n",
      "[1 1 1 1 1 0 0 1]\n",
      "51F2FB6E3AF9\n",
      "\n",
      "[1 0 1 1 0 1 0 1]\n",
      "[1 1 0 1 0 1 0 1]\n",
      "[1 1 1 0 0 0 1 0]\n",
      "[0 1 1 1 0 0 1 1]\n",
      "[1 1 1 1 1 0 0 1]\n",
      "[0 1 1 1 1 0 1 1]\n",
      "B5D5E273F97B\n",
      "\n",
      "[1 1 1 1 0 0 1 0]\n",
      "[0 1 0 0 1 0 1 1]\n",
      "[1 1 0 0 0 1 1 1]\n",
      "[0 0 1 0 0 1 1 1]\n",
      "[1 0 0 1 1 1 0 1]\n",
      "[0 0 1 1 1 0 1 0]\n",
      "F24BC7279D3A\n",
      "\n",
      "[0 0 1 0 1 1 1 0]\n",
      "[0 0 1 1 1 1 1 0]\n",
      "[0 1 1 1 0 0 1 1]\n",
      "[1 0 0 1 1 1 1 0]\n",
      "[0 1 0 1 0 1 1 1]\n",
      "[1 1 0 1 1 0 1 0]\n",
      "2E3E739E57DA\n",
      "\n",
      "[1 1 1 0 1 1 1 1]\n",
      "[0 1 1 1 1 1 0 0]\n",
      "[0 1 0 0 1 1 0 0]\n",
      "[1 1 0 1 1 1 0 1]\n",
      "[1 1 0 1 0 0 1 1]\n",
      "[0 1 1 0 0 0 0 1]\n",
      "EF7C4CDDD361\n",
      "\n",
      "[0 1 0 0 1 0 1 0]\n",
      "[1 1 1 0 0 1 1 1]\n",
      "[1 1 0 1 1 0 0 0]\n",
      "[1 1 0 1 0 0 1 0]\n",
      "[1 1 1 0 1 1 1 0]\n",
      "[0 1 1 0 1 0 0 0]\n",
      "4AE7D8D2EE68\n",
      "\n",
      "[0 1 0 1 1 1 0 0]\n",
      "[1 1 0 1 1 1 0 1]\n",
      "[0 0 1 1 1 0 1 1]\n",
      "[1 1 1 1 1 0 0 0]\n",
      "[1 0 1 1 1 1 1 1]\n",
      "[0 0 0 1 1 1 0 0]\n",
      "5CDD3BF8BF1C\n",
      "\n",
      "[1 1 1 0 0 1 1 1]\n",
      "[1 0 1 0 1 0 0 1]\n",
      "[0 1 0 0 1 0 1 1]\n",
      "[1 0 1 1 1 0 0 1]\n",
      "[0 1 1 1 0 1 1 0]\n",
      "[1 0 1 1 1 0 1 0]\n",
      "E7A94BB976BA\n",
      "\n",
      "[0 0 1 0 1 0 1 1]\n",
      "[1 1 1 0 1 1 1 0]\n",
      "[1 0 0 0 0 1 1 1]\n",
      "[0 1 1 1 1 1 0 1]\n",
      "[0 1 1 1 1 0 1 0]\n",
      "[0 0 1 0 0 0 1 1]\n",
      "2BEE877D7A23\n",
      "\n",
      "[0 1 1 1 1 0 0 1]\n",
      "[0 0 1 1 1 1 0 1]\n",
      "[1 0 0 1 1 0 1 0]\n",
      "[1 0 1 1 0 1 1 0]\n",
      "[0 1 1 0 1 0 0 0]\n",
      "[0 1 1 1 1 1 1 0]\n",
      "793D9AB6687E\n",
      "\n",
      "[0 1 0 0 0 0 1 1]\n",
      "[0 1 0 1 1 0 1 0]\n",
      "[1 1 1 0 1 1 0 0]\n",
      "[1 1 0 1 0 0 1 1]\n",
      "[0 1 0 0 1 1 0 1]\n",
      "[1 0 0 1 0 1 1 1]\n",
      "435AECD34D97\n",
      "\n"
     ]
    }
   ],
   "source": [
    "class DES_Key():\n",
    "    key:np.ndarray\n",
    "    C0:np.ndarray = np.zeros(1)\n",
    "    D0:np.ndarray = np.zeros(1)\n",
    "    TourKeys:list[np.ndarray] = []\n",
    "    def __init__(self,key:np.ndarray):\n",
    "        if len(key) != 64 : #Verifie que la longueur est bonne\n",
    "            raise IndexError(\"La clé ne fait pas la bonne taille\")\n",
    "        for i in range(0,64,8): # vérifie si chaque octet est impair\n",
    "            if key[i:i+8].sum()%2==0:\n",
    "                raise ValueError(\"La clé doit être composée d'octets impairs\")\n",
    "        self.key = key\n",
    "    def generateC0D0(self):\n",
    "        #on genere C0 à partir de PC1g et PC1d\n",
    "        self.C0 = np.zeros(28,int)\n",
    "        self.D0 = np.zeros(28,int)\n",
    "        for i,index in enumerate(PC1g) :\n",
    "            self.C0[i] = self.key[index-1]\n",
    "        for i,index in enumerate(PC1d) :\n",
    "            self.D0[i] = self.key[index-1]\n",
    "    def getC0D0(self):\n",
    "        if len(self.C0) != 28 or len(self.D0) != 28 :\n",
    "            self.generateC0D0()\n",
    "        return self.C0,self.D0\n",
    "    def getClesdeTour(self)->list[np.ndarray]:\n",
    "        # génération des clés de tours\n",
    "        if len(self.TourKeys) != 16 :\n",
    "            c0,d0 = self.getC0D0()\n",
    "            c0 = list(c0)\n",
    "            d0 = list(d0)\n",
    "            for i in range(1, 17):\n",
    "                vi = 1 if i in [1, 2, 9, 16] else 2\n",
    "                ci = c0[vi:] + c0[:vi]\n",
    "                di = d0[vi:] + d0[:vi]\n",
    "                c0 = ci\n",
    "                d0 = di\n",
    "                valPhi2 = np.array(c0+d0)\n",
    "                ki = np.array([valPhi2[val-1] for val in PC2],int)\n",
    "                self.TourKeys.append(ki)\n",
    "        return self.TourKeys\n",
    "\n",
    "def afficheOctets(cle,):\n",
    "    for i in range(0,len(cle),8):\n",
    "        print(cle[i:i+8])\n",
    "\n",
    "def afficheHexa(cle,):\n",
    "    hexe = \"0123456789ABCDEF\"\n",
    "    mot = \"\"\n",
    "    for i in range(0,len(cle),4):\n",
    "        compt = 0\n",
    "        for j,item in enumerate(cle[i:i+4]):\n",
    "            compt += item*(2**(3-j))\n",
    "        mot += hexe[compt]\n",
    "    print(mot)\n",
    "\n",
    "#--------------------------------------------------------\n",
    "\n",
    "cle1 = DES_Key(b)\n",
    "tour1 = cle1.getClesdeTour()\n",
    "afficheOctets(cle1.key)\n",
    "afficheHexa(cle1.key)\n",
    "print()\n",
    "for item in tour1 :\n",
    "    afficheOctets(item)\n",
    "    afficheHexa(item)\n",
    "    print()"
   ]
  },
  {
   "attachments": {},
   "cell_type": "markdown",
   "metadata": {},
   "source": [
    "En comparant nos resultat avec l'exemple, on voit qu'on a les mêmes resultats\n",
    "\n",
    "## Créations des fonction pour $f_K$ et tests"
   ]
  },
  {
   "cell_type": "code",
   "execution_count": 1201,
   "metadata": {},
   "outputs": [
    {
     "name": "stdout",
     "output_type": "stream",
     "text": [
      "[1 1 1 1 0 0 0 0]\n",
      "[0 0 0 0 0 0 0 1]\n",
      "[1 0 0 1 1 0 0 0]\n",
      "[1 1 1 0 0 1 1 0]\n",
      "[1 1 1 0 1 1 0 0]\n",
      "[1 0 0 0 0 1 0 0]\n",
      "[1 1 1 1 1 0 0 0]\n",
      "[0 1 1 0 1 0 0 0]\n",
      "\n",
      "[1 1 1 0 1 1 0 0]\n",
      "[1 0 0 0 0 1 0 0]\n",
      "[1 1 1 1 1 0 0 0]\n",
      "[0 1 1 0 1 0 0 0]\n",
      "\n",
      "[0 1 1 1 0 1 0 1]\n",
      "[1 0 0 1 0 1 0 0]\n",
      "[0 0 0 0 1 0 0 1]\n",
      "[0 1 1 1 1 1 1 1]\n",
      "[0 0 0 0 0 0 1 1]\n",
      "[0 1 0 1 0 0 0 1]\n",
      "\n",
      "[0 1 1 1 0 1 0 0]\n",
      "[1 0 1 0 0 1 0 0]\n",
      "[1 1 1 1 1 0 0 1]\n",
      "[1 0 1 0 0 1 0 1]\n",
      "[1 0 1 1 1 0 1 1]\n",
      "[1 1 0 1 0 1 1 0]\n",
      "\n",
      "[0 0 0 0 0 0 0 1]\n",
      "[0 0 1 1 0 0 0 0]\n",
      "[1 1 1 1 0 0 0 0]\n",
      "[1 1 0 1 1 0 1 0]\n",
      "[1 0 1 1 1 0 0 0]\n",
      "[1 0 0 0 0 1 1 1]\n"
     ]
    }
   ],
   "source": [
    "def split(msg):\n",
    "    return msg[:32],msg[32:]\n",
    "\n",
    "def Expansion(demimot:np.ndarray)->np.ndarray:\n",
    "    ret = np.zeros(48,int)\n",
    "    for i in range(0,48):\n",
    "        ret[i] = demimot[E[i]-1]\n",
    "    return ret\n",
    "\n",
    "def XOR(a,b):\n",
    "    if len(a) != len(b) :\n",
    "        raise IndexError(\"a et b ne sont pas de la meme taille\")\n",
    "    ret = np.zeros(len(a),int)\n",
    "    for i in range (0,len(a)):\n",
    "        if a[i]==1 and b[i] == 1 :\n",
    "            ret[i] = 0\n",
    "        else :\n",
    "            ret[i] = a[i] + b[i]\n",
    "    return ret\n",
    "\n",
    "def perm(mot,permu)->np.ndarray:\n",
    "    #permet d'effectuer n'importe quelle permutation\n",
    "    ret = np.zeros(len(mot),int)\n",
    "    for i in range (0,len(mot)):\n",
    "        ret[i] = mot[permu[i]-1]\n",
    "    return ret\n",
    "\n",
    "\n",
    "perminitial = a #perm(a,sigma)\n",
    "afficheOctets(perminitial)\n",
    "print()\n",
    "l0,r0 = split(perminitial)\n",
    "afficheOctets(r0)\n",
    "print()\n",
    "Er0 = Expansion(r0)\n",
    "afficheOctets(Er0)\n",
    "print()\n",
    "afficheOctets(cle1.getClesdeTour()[0])\n",
    "print()\n",
    "xored = XOR(Er0,cle1.getClesdeTour()[0])\n",
    "afficheOctets(xored)"
   ]
  },
  {
   "cell_type": "code",
   "execution_count": 1202,
   "metadata": {},
   "outputs": [
    {
     "name": "stdout",
     "output_type": "stream",
     "text": [
      "[1 0 1 0 1 1 0 0]\n",
      "[1 1 0 1 0 1 0 1]\n",
      "[1 0 1 1 0 0 1 0]\n",
      "[0 1 0 0 1 1 0 0]\n",
      "ACD5B24C\n"
     ]
    }
   ],
   "source": [
    "def calc(mot6):\n",
    "    #retourne b1b6 et B2B3B4B5\n",
    "    return mot6[0]*2+mot6[5],mot6[1]*8+mot6[2]*4+mot6[3]*2+mot6[4]\n",
    "\n",
    "def int_to_bin(value):\n",
    "    #conversion en binaire\n",
    "    l = []\n",
    "    while value != 0 :\n",
    "        l.append(value%2)\n",
    "        value = value//2\n",
    "    while len(l) < 4:\n",
    "        l.append(0)\n",
    "    return l[::-1]\n",
    "\n",
    "def s_boite(demimot):\n",
    "    #passage du demi mot à travers les s boites\n",
    "    res = []\n",
    "    for i in range (0,8):\n",
    "        mot6 = demimot[i*6:(i+1)*6]\n",
    "        a,b = calc(mot6)\n",
    "        indsboite = S[i][a,b]\n",
    "        res += int_to_bin(indsboite)\n",
    "    return np.array(res)\n",
    "\n",
    "result = perm(s_boite(xored),P)\n",
    "afficheOctets(result)\n",
    "afficheHexa(result)"
   ]
  },
  {
   "attachments": {},
   "cell_type": "markdown",
   "metadata": {},
   "source": [
    "On retrouve bien le resultat donné dans l'exemple plus haut\n",
    "\n",
    "## Creation de la fonction de chiffrement `DES(k,p)`"
   ]
  },
  {
   "cell_type": "code",
   "execution_count": 1203,
   "metadata": {},
   "outputs": [
    {
     "name": "stdout",
     "output_type": "stream",
     "text": [
      "[1 0 1 0 0 1 1 0]\n",
      "[0 0 0 1 1 1 0 0]\n",
      "[1 0 1 0 0 0 0 0]\n",
      "[0 1 0 1 0 1 0 1]\n",
      "[1 0 1 0 1 0 1 0]\n",
      "[1 0 1 1 1 1 0 0]\n",
      "[1 1 1 1 0 1 1 1]\n",
      "[1 0 0 1 1 1 0 0]\n",
      "A61CA055AABCF79C\n"
     ]
    },
    {
     "data": {
      "text/plain": [
       "array([ True,  True,  True,  True,  True,  True,  True,  True,  True,\n",
       "        True,  True,  True,  True,  True,  True,  True,  True,  True,\n",
       "        True,  True,  True,  True,  True,  True,  True,  True,  True,\n",
       "        True,  True,  True,  True,  True,  True,  True,  True,  True,\n",
       "        True,  True,  True,  True,  True,  True,  True,  True,  True,\n",
       "        True,  True,  True,  True,  True,  True,  True,  True,  True,\n",
       "        True,  True,  True,  True,  True,  True,  True,  True,  True,\n",
       "        True])"
      ]
     },
     "execution_count": 1203,
     "metadata": {},
     "output_type": "execute_result"
    }
   ],
   "source": [
    "def f_k(key:DES_Key,demimot,tour:int):\n",
    "    #fonctions Fk\n",
    "    exp = Expansion(demimot)\n",
    "    xored = XOR(exp,key.getClesdeTour()[tour])\n",
    "    return perm(s_boite(xored),P)\n",
    "\n",
    "def DES(k:DES_Key,p:np.ndarray):\n",
    "    motp = perm(p,sigma)\n",
    "    l0,r0 = split(motp)\n",
    "    for i in range(0,16):\n",
    "        nl = r0\n",
    "        nr = XOR(l0,f_k(k,r0,i))\n",
    "        l0 = nl\n",
    "        r0 = nr\n",
    "    premotf = np.concatenate((nr,nl))\n",
    "    return perm(premotf,sigma_moins_un)\n",
    "\n",
    "dessed = DES(cle1,a)\n",
    "\n",
    "afficheOctets(dessed)\n",
    "afficheHexa(dessed)\n",
    "\n",
    "dessed == c\n"
   ]
  },
  {
   "attachments": {},
   "cell_type": "markdown",
   "metadata": {},
   "source": [
    "## Creation de la fonction de déchiffrement `unDES(k,p)`\n",
    "\n",
    "On effectue alors les mêmes opérations avec les tours dans le sens inverse"
   ]
  },
  {
   "cell_type": "code",
   "execution_count": 1204,
   "metadata": {},
   "outputs": [
    {
     "name": "stdout",
     "output_type": "stream",
     "text": [
      "[1 1 1 1 0 0 0 0]\n",
      "[0 0 0 0 0 0 0 1]\n",
      "[1 0 0 1 1 0 0 0]\n",
      "[1 1 1 0 0 1 1 0]\n",
      "[1 1 1 0 1 1 0 0]\n",
      "[1 0 0 0 0 1 0 0]\n",
      "[1 1 1 1 1 0 0 0]\n",
      "[0 1 1 0 1 0 0 0]\n",
      "F00198E6EC84F868\n"
     ]
    },
    {
     "data": {
      "text/plain": [
       "array([ True,  True,  True,  True,  True,  True,  True,  True,  True,\n",
       "        True,  True,  True,  True,  True,  True,  True,  True,  True,\n",
       "        True,  True,  True,  True,  True,  True,  True,  True,  True,\n",
       "        True,  True,  True,  True,  True,  True,  True,  True,  True,\n",
       "        True,  True,  True,  True,  True,  True,  True,  True,  True,\n",
       "        True,  True,  True,  True,  True,  True,  True,  True,  True,\n",
       "        True,  True,  True,  True,  True,  True,  True,  True,  True,\n",
       "        True])"
      ]
     },
     "execution_count": 1204,
     "metadata": {},
     "output_type": "execute_result"
    }
   ],
   "source": [
    "def unDES(k:DES_Key,p:np.ndarray):\n",
    "    motp = perm(p,sigma)\n",
    "    r0,l0 = split(motp)\n",
    "    for i in range(0,16):\n",
    "        nr = l0\n",
    "        nl = XOR(r0,f_k(k,l0,15-i))\n",
    "        l0 = nl\n",
    "        r0 = nr\n",
    "        \n",
    "    premotf = np.concatenate((nl,nr))\n",
    "    return perm(premotf,sigma_moins_un)\n",
    "\n",
    "undessed = unDES(cle1,dessed)\n",
    "\n",
    "afficheOctets(undessed)\n",
    "afficheHexa(undessed)\n",
    "\n",
    "undessed == a"
   ]
  },
  {
   "attachments": {},
   "cell_type": "markdown",
   "metadata": {},
   "source": [
    "Nous retombons alors sur le message en clair\n",
    "\n",
    "## Analyse Differentielle"
   ]
  },
  {
   "cell_type": "code",
   "execution_count": 1205,
   "metadata": {},
   "outputs": [
    {
     "name": "stdout",
     "output_type": "stream",
     "text": [
      "['I', 'I', 'D', 'I', 'I', 'D', 'I', 'D']\n",
      "['I', 'I', 'D', 'I', 'D', 'I', 'I', 'I']\n",
      "['D', 'D', 'D', 'I', 'I', 'D', 'D', 'I']\n",
      "['I', 'I', 'I', 'I', 'D', 'I', 'D', 'D']\n",
      "['I', 'I', 'D', 'I', 'D', 'I', 'D', 'I']\n",
      "['I', 'D', 'I', 'I', 'D', 'I', 'D', 'I']\n",
      "['D', 'I', 'D', 'D', 'D', 'I', 'I', 'I']\n",
      "['I', 'I', 'I', 'D', 'D', 'I', 'D', 'I']\n",
      "nombre de bit differents : 26\n"
     ]
    }
   ],
   "source": [
    "def swapbit(a:np.ndarray,b:int):\n",
    "    if b > len(a) :\n",
    "        raise ValueError(\"b trop grand pour a\")\n",
    "    ap = np.copy(a)\n",
    "    ap[b] = ap[b]^1\n",
    "    return ap\n",
    "\n",
    "\n",
    "modified = swapbit(a,randint(0,63))\n",
    "\n",
    "desa = DES(cle1,a)\n",
    "desm = DES(cle1,modified)\n",
    "\n",
    "diff = np.array(desa == desm,int)\n",
    "\n",
    "aff = ['I','D']\n",
    "res = ['']*64\n",
    "for i in range(0,64):\n",
    "    res[i] = aff[diff[i]]\n",
    "    \n",
    "\n",
    "afficheOctets(res)\n",
    "\n",
    "print(f\"nombre de bit differents : {diff.sum()}\")"
   ]
  },
  {
   "attachments": {},
   "cell_type": "markdown",
   "metadata": {},
   "source": [
    "Les bits identiques sont marqué `I`\n",
    "\n",
    "Dans le bloc suivant, on teste en modifiant tous les bits du mot donné, on se rend compte qu'on a seulement la moitié des bits qui sont bons, ce qui correspond statistiquement à ce qu'on aurait aléatoirement."
   ]
  },
  {
   "cell_type": "code",
   "execution_count": 1206,
   "metadata": {},
   "outputs": [
    {
     "name": "stdout",
     "output_type": "stream",
     "text": [
      "nombre de bit moyen differents : 31.328125\n"
     ]
    }
   ],
   "source": [
    "moyenne = 0.0\n",
    "for i in range(0,64):\n",
    "    modified = swapbit(a,i)\n",
    "\n",
    "    desa = DES(cle1,a)\n",
    "    desm = DES(cle1,modified)\n",
    "\n",
    "    diff = np.array(desa == desm,int)\n",
    "\n",
    "    moyenne += diff.sum()\n",
    "\n",
    "moyenne /= 64\n",
    "\n",
    "\n",
    "print(f\"nombre de bit moyen differents : {moyenne}\")"
   ]
  },
  {
   "attachments": {},
   "cell_type": "markdown",
   "metadata": {},
   "source": [
    "On a donc en moyenne $31.328125$ bit differents en changeant un bit c'est a dire quasiment la moitié. puisque que on a une chance sur deux qu'un bit choisi aléatoirement soit identique, on peut donc dire que l'algorithme DES est très resistant à l'analyse differentielle"
   ]
  }
 ],
 "metadata": {
  "kernelspec": {
   "display_name": "Python 3",
   "language": "python",
   "name": "python3"
  },
  "language_info": {
   "codemirror_mode": {
    "name": "ipython",
    "version": 3
   },
   "file_extension": ".py",
   "mimetype": "text/x-python",
   "name": "python",
   "nbconvert_exporter": "python",
   "pygments_lexer": "ipython3",
   "version": "3.11.1"
  },
  "vscode": {
   "interpreter": {
    "hash": "e7370f93d1d0cde622a1f8e1c04877d8463912d04d973331ad4851f04de6915a"
   }
  }
 },
 "nbformat": 4,
 "nbformat_minor": 4
}
